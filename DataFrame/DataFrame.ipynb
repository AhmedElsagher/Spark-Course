{
 "cells": [
  {
   "cell_type": "markdown",
   "metadata": {},
   "source": [
    "## Example2"
   ]
  },
  {
   "cell_type": "code",
   "execution_count": 40,
   "metadata": {},
   "outputs": [],
   "source": [
    "from pyspark.sql import SparkSession\n",
    "from pyspark.sql import Row\n",
    "\n",
    "spark = SparkSession.builder.appName(\"SparkSql\").getOrCreate()\n",
    "\n",
    "\n",
    "people = spark.read.option(\"header\",\"true\").option(\"inferschema\",\"true\").\\\n",
    "            csv(\"../DATA/fakefriends_header.csv\")\n",
    "schemapeople.createOrReplaceTempView(\"people\")\n"
   ]
  },
  {
   "cell_type": "code",
   "execution_count": 20,
   "metadata": {},
   "outputs": [
    {
     "name": "stdout",
     "output_type": "stream",
     "text": [
      "root\n",
      " |-- userID: integer (nullable = true)\n",
      " |-- name: string (nullable = true)\n",
      " |-- age: integer (nullable = true)\n",
      " |-- friends: integer (nullable = true)\n",
      "\n"
     ]
    }
   ],
   "source": [
    "people.printSchema()"
   ]
  },
  {
   "cell_type": "code",
   "execution_count": 22,
   "metadata": {},
   "outputs": [
    {
     "name": "stdout",
     "output_type": "stream",
     "text": [
      "+--------+\n",
      "|    name|\n",
      "+--------+\n",
      "|    Will|\n",
      "|Jean-Luc|\n",
      "|    Hugh|\n",
      "|  Deanna|\n",
      "|   Quark|\n",
      "|  Weyoun|\n",
      "|  Gowron|\n",
      "|    Will|\n",
      "|  Jadzia|\n",
      "|    Hugh|\n",
      "|     Odo|\n",
      "|     Ben|\n",
      "|   Keiko|\n",
      "|Jean-Luc|\n",
      "|    Hugh|\n",
      "|     Rom|\n",
      "|  Weyoun|\n",
      "|     Odo|\n",
      "|Jean-Luc|\n",
      "|  Geordi|\n",
      "+--------+\n",
      "only showing top 20 rows\n",
      "\n"
     ]
    }
   ],
   "source": [
    "people.select(\"name\").show()"
   ]
  },
  {
   "cell_type": "code",
   "execution_count": 23,
   "metadata": {},
   "outputs": [
    {
     "name": "stdout",
     "output_type": "stream",
     "text": [
      "+------+--------+---+-------+\n",
      "|userID|    name|age|friends|\n",
      "+------+--------+---+-------+\n",
      "|     0|    Will| 33|    385|\n",
      "|     1|Jean-Luc| 26|      2|\n",
      "|     2|    Hugh| 55|    221|\n",
      "|     3|  Deanna| 40|    465|\n",
      "|     4|   Quark| 68|     21|\n",
      "|     5|  Weyoun| 59|    318|\n",
      "|     6|  Gowron| 37|    220|\n",
      "|     7|    Will| 54|    307|\n",
      "|     8|  Jadzia| 38|    380|\n",
      "|     9|    Hugh| 27|    181|\n",
      "|    10|     Odo| 53|    191|\n",
      "|    11|     Ben| 57|    372|\n",
      "|    12|   Keiko| 54|    253|\n",
      "|    13|Jean-Luc| 56|    444|\n",
      "|    14|    Hugh| 43|     49|\n",
      "|    15|     Rom| 36|     49|\n",
      "|    16|  Weyoun| 22|    323|\n",
      "|    17|     Odo| 35|     13|\n",
      "|    18|Jean-Luc| 45|    455|\n",
      "|    19|  Geordi| 60|    246|\n",
      "+------+--------+---+-------+\n",
      "only showing top 20 rows\n",
      "\n"
     ]
    }
   ],
   "source": [
    "people.filter(people.age>20).show()"
   ]
  },
  {
   "cell_type": "code",
   "execution_count": 25,
   "metadata": {},
   "outputs": [
    {
     "name": "stdout",
     "output_type": "stream",
     "text": [
      "+---+-----+\n",
      "|age|count|\n",
      "+---+-----+\n",
      "| 31|    8|\n",
      "| 65|    5|\n",
      "| 53|    7|\n",
      "| 34|    6|\n",
      "| 28|   10|\n",
      "| 26|   17|\n",
      "| 27|    8|\n",
      "| 44|   12|\n",
      "| 22|    7|\n",
      "| 47|    9|\n",
      "| 52|   11|\n",
      "| 40|   17|\n",
      "| 20|    5|\n",
      "| 57|   12|\n",
      "| 54|   13|\n",
      "| 48|   10|\n",
      "| 19|   11|\n",
      "| 64|   12|\n",
      "| 41|    9|\n",
      "| 43|    7|\n",
      "+---+-----+\n",
      "only showing top 20 rows\n",
      "\n"
     ]
    }
   ],
   "source": [
    "people.groupBy(\"age\").count().show()"
   ]
  },
  {
   "cell_type": "markdown",
   "metadata": {},
   "source": [
    "# excersise 1"
   ]
  },
  {
   "cell_type": "code",
   "execution_count": 41,
   "metadata": {},
   "outputs": [],
   "source": [
    "from pyspark.sql import functions as func"
   ]
  },
  {
   "cell_type": "code",
   "execution_count": 42,
   "metadata": {},
   "outputs": [
    {
     "name": "stdout",
     "output_type": "stream",
     "text": [
      "+---+------------------+\n",
      "|age|      avg(friends)|\n",
      "+---+------------------+\n",
      "| 18|           343.375|\n",
      "| 19|213.27272727272728|\n",
      "| 20|             165.0|\n",
      "| 21|           350.875|\n",
      "| 22|206.42857142857142|\n",
      "| 23|             246.3|\n",
      "| 24|             233.8|\n",
      "| 25|197.45454545454547|\n",
      "| 26|242.05882352941177|\n",
      "| 27|           228.125|\n",
      "| 28|             209.1|\n",
      "| 29|215.91666666666666|\n",
      "| 30| 235.8181818181818|\n",
      "| 31|            267.25|\n",
      "| 32| 207.9090909090909|\n",
      "| 33| 325.3333333333333|\n",
      "| 34|             245.5|\n",
      "| 35|           211.625|\n",
      "| 36|             246.6|\n",
      "| 37|249.33333333333334|\n",
      "+---+------------------+\n",
      "only showing top 20 rows\n",
      "\n"
     ]
    }
   ],
   "source": [
    "people.groupBy(\"age\").agg({\"friends\":\"mean\"}).sort(\"age\").show()"
   ]
  },
  {
   "cell_type": "code",
   "execution_count": 57,
   "metadata": {},
   "outputs": [
    {
     "name": "stdout",
     "output_type": "stream",
     "text": [
      "+---+-----------+\n",
      "|age|friends_avg|\n",
      "+---+-----------+\n",
      "| 63|      384.0|\n",
      "| 21|     350.88|\n",
      "| 18|     343.38|\n",
      "| 52|     340.64|\n",
      "| 33|     325.33|\n",
      "| 45|     309.54|\n",
      "| 56|     306.67|\n",
      "| 42|      303.5|\n",
      "| 51|     302.14|\n",
      "| 65|      298.2|\n",
      "| 55|     295.54|\n",
      "| 44|     282.17|\n",
      "| 48|      281.4|\n",
      "| 64|     281.33|\n",
      "| 54|     278.08|\n",
      "| 66|     276.44|\n",
      "| 68|      269.6|\n",
      "| 41|     268.56|\n",
      "| 31|     267.25|\n",
      "| 57|     258.83|\n",
      "+---+-----------+\n",
      "only showing top 20 rows\n",
      "\n"
     ]
    }
   ],
   "source": [
    "people.groupBy(\"age\").\\\n",
    "    agg(func.round(\n",
    "                    func.avg(\"friends\"), 2).\\\n",
    "                    alias(\"friends_avg\")).\\\n",
    "    sort(func.desc(\"friends_avg\")).show()"
   ]
  },
  {
   "cell_type": "code",
   "execution_count": 58,
   "metadata": {},
   "outputs": [],
   "source": [
    "spark.stop()"
   ]
  },
  {
   "cell_type": "markdown",
   "metadata": {},
   "source": [
    "# example 3"
   ]
  },
  {
   "cell_type": "code",
   "execution_count": 62,
   "metadata": {},
   "outputs": [],
   "source": [
    "from pyspark.sql import SparkSession\n",
    "from pyspark.sql import Row\n",
    "\n",
    "spark = SparkSession.builder.appName(\"wordCount\").getOrCreate()"
   ]
  },
  {
   "cell_type": "code",
   "execution_count": 99,
   "metadata": {},
   "outputs": [],
   "source": [
    "book = spark.read.text(\"/media/user/Files/sparkCourse/DATA/book\")"
   ]
  },
  {
   "cell_type": "code",
   "execution_count": 100,
   "metadata": {},
   "outputs": [],
   "source": [
    "words = book.select(func.explode(func.split(book.value,r'\\W+')).alias(\"word\"))"
   ]
  },
  {
   "cell_type": "code",
   "execution_count": 101,
   "metadata": {},
   "outputs": [],
   "source": [
    "words =words.filter(words.word!=\"\")\n",
    "words =words.select(func.lower(words.word).alias(\"word\"))"
   ]
  },
  {
   "cell_type": "code",
   "execution_count": 102,
   "metadata": {},
   "outputs": [
    {
     "name": "stdout",
     "output_type": "stream",
     "text": [
      "+--------+---------+\n",
      "|    word|wordCount|\n",
      "+--------+---------+\n",
      "|     you|     1878|\n",
      "|      to|     1828|\n",
      "|    your|     1420|\n",
      "|     the|     1292|\n",
      "|       a|     1191|\n",
      "|      of|      970|\n",
      "|     and|      934|\n",
      "|    that|      747|\n",
      "|      it|      649|\n",
      "|      in|      616|\n",
      "|      is|      560|\n",
      "|     for|      537|\n",
      "|      on|      428|\n",
      "|     are|      424|\n",
      "|      if|      411|\n",
      "|       s|      391|\n",
      "|       i|      387|\n",
      "|business|      383|\n",
      "|     can|      376|\n",
      "|      be|      369|\n",
      "+--------+---------+\n",
      "only showing top 20 rows\n",
      "\n"
     ]
    }
   ],
   "source": [
    "words.groupBy(\"word\").agg(func.count(\"word\").alias(\"wordCount\")).sort(func.desc(\"wordCount\")).show()"
   ]
  },
  {
   "cell_type": "code",
   "execution_count": 103,
   "metadata": {},
   "outputs": [],
   "source": [
    "spark.stop()"
   ]
  },
  {
   "cell_type": "markdown",
   "metadata": {},
   "source": [
    "# example 4"
   ]
  },
  {
   "cell_type": "code",
   "execution_count": 118,
   "metadata": {},
   "outputs": [],
   "source": [
    "from pyspark.sql import SparkSession\n",
    "from pyspark.sql import functions as func\n",
    "from pyspark.sql.types import StructField, StructType,StringType,IntegerType,FloatType"
   ]
  },
  {
   "cell_type": "code",
   "execution_count": 119,
   "metadata": {},
   "outputs": [],
   "source": [
    "spark = SparkSession.builder.appName(\"tempApp\").getOrCreate()\n",
    "schema = StructType([\n",
    "    StructField(\"ID\",StringType(),True),\n",
    "    StructField(\"date\",IntegerType(),True),\n",
    "    StructField(\"measureType\",StringType(),True),\n",
    "    StructField(\"temp\",FloatType(),True)\n",
    "])"
   ]
  },
  {
   "cell_type": "code",
   "execution_count": 120,
   "metadata": {},
   "outputs": [],
   "source": [
    "data = spark.read.schema(schema).csv(\"../DATA/1800.csv\")"
   ]
  },
  {
   "cell_type": "code",
   "execution_count": 121,
   "metadata": {},
   "outputs": [
    {
     "name": "stdout",
     "output_type": "stream",
     "text": [
      "+-----------+--------+-----------+------+\n",
      "|         ID|    date|measureType|  temp|\n",
      "+-----------+--------+-----------+------+\n",
      "|ITE00100554|18000101|       TMAX| -75.0|\n",
      "|ITE00100554|18000101|       TMIN|-148.0|\n",
      "|GM000010962|18000101|       PRCP|   0.0|\n",
      "|EZE00100082|18000101|       TMAX| -86.0|\n",
      "|EZE00100082|18000101|       TMIN|-135.0|\n",
      "|ITE00100554|18000102|       TMAX| -60.0|\n",
      "|ITE00100554|18000102|       TMIN|-125.0|\n",
      "|GM000010962|18000102|       PRCP|   0.0|\n",
      "|EZE00100082|18000102|       TMAX| -44.0|\n",
      "|EZE00100082|18000102|       TMIN|-130.0|\n",
      "|ITE00100554|18000103|       TMAX| -23.0|\n",
      "|ITE00100554|18000103|       TMIN| -46.0|\n",
      "|GM000010962|18000103|       PRCP|   4.0|\n",
      "|EZE00100082|18000103|       TMAX| -10.0|\n",
      "|EZE00100082|18000103|       TMIN| -73.0|\n",
      "|ITE00100554|18000104|       TMAX|   0.0|\n",
      "|ITE00100554|18000104|       TMIN| -13.0|\n",
      "|GM000010962|18000104|       PRCP|   0.0|\n",
      "|EZE00100082|18000104|       TMAX| -55.0|\n",
      "|EZE00100082|18000104|       TMIN| -74.0|\n",
      "+-----------+--------+-----------+------+\n",
      "only showing top 20 rows\n",
      "\n"
     ]
    }
   ],
   "source": [
    "data.show()"
   ]
  },
  {
   "cell_type": "code",
   "execution_count": 122,
   "metadata": {},
   "outputs": [],
   "source": [
    "data =data.filter(data.measureType==\"TMIN\")"
   ]
  },
  {
   "cell_type": "code",
   "execution_count": 124,
   "metadata": {},
   "outputs": [
    {
     "name": "stdout",
     "output_type": "stream",
     "text": [
      "+-----------+--------+\n",
      "|         ID|min_temp|\n",
      "+-----------+--------+\n",
      "|ITE00100554|  -148.0|\n",
      "|EZE00100082|  -135.0|\n",
      "+-----------+--------+\n",
      "\n"
     ]
    }
   ],
   "source": [
    "data.groupBy(\"ID\").agg(func.min(\"temp\").alias(\"min_temp\")).sort(\"min_temp\").show(20)"
   ]
  },
  {
   "cell_type": "code",
   "execution_count": 125,
   "metadata": {},
   "outputs": [],
   "source": [
    "spark.stop()"
   ]
  },
  {
   "cell_type": "markdown",
   "metadata": {},
   "source": [
    "# excersise 2"
   ]
  },
  {
   "cell_type": "code",
   "execution_count": 126,
   "metadata": {},
   "outputs": [],
   "source": [
    "from pyspark.sql import SparkSession\n",
    "from pyspark.sql import functions as func\n",
    "from pyspark.sql.types import StructField, StructType,IntegerType,FloatType"
   ]
  },
  {
   "cell_type": "code",
   "execution_count": 130,
   "metadata": {},
   "outputs": [],
   "source": [
    "spark = SparkSession.builder.appName(\"sales\").getOrCreate()\n",
    "schema = StructType([\n",
    "    StructField(\"customer_id\", IntegerType(),True),\n",
    "    StructField(\"item_id\",  IntegerType(),True),\n",
    "    StructField(\"price\",FloatType (),True)\n",
    "])\n"
   ]
  },
  {
   "cell_type": "code",
   "execution_count": 131,
   "metadata": {},
   "outputs": [],
   "source": [
    "data = spark.read.schema(schema).csv(\"../DATA/customer-orders.csv\")"
   ]
  },
  {
   "cell_type": "code",
   "execution_count": 132,
   "metadata": {},
   "outputs": [
    {
     "name": "stdout",
     "output_type": "stream",
     "text": [
      "+-----------+-------+-----+\n",
      "|customer_id|item_id|price|\n",
      "+-----------+-------+-----+\n",
      "|         44|   8602|37.19|\n",
      "|         35|   5368|65.89|\n",
      "|          2|   3391|40.64|\n",
      "|         47|   6694|14.98|\n",
      "|         29|    680|13.08|\n",
      "|         91|   8900|24.59|\n",
      "|         70|   3959|68.68|\n",
      "|         85|   1733|28.53|\n",
      "|         53|   9900|83.55|\n",
      "|         14|   1505| 4.32|\n",
      "|         51|   3378| 19.8|\n",
      "|         42|   6926|57.77|\n",
      "|          2|   4424|55.77|\n",
      "|         79|   9291|33.17|\n",
      "|         50|   3901|23.57|\n",
      "|         20|   6633| 6.49|\n",
      "|         15|   6148|65.53|\n",
      "|         44|   8331|99.19|\n",
      "|          5|   3505|64.18|\n",
      "|         48|   5539|32.42|\n",
      "+-----------+-------+-----+\n",
      "only showing top 20 rows\n",
      "\n"
     ]
    }
   ],
   "source": [
    "data.show()"
   ]
  },
  {
   "cell_type": "code",
   "execution_count": 136,
   "metadata": {},
   "outputs": [
    {
     "name": "stdout",
     "output_type": "stream",
     "text": [
      "+-----------+-----------+\n",
      "|customer_id|total_price|\n",
      "+-----------+-----------+\n",
      "|         68|    6375.45|\n",
      "|         73|     6206.2|\n",
      "|         39|    6193.11|\n",
      "|         54|    6065.39|\n",
      "|         71|    5995.66|\n",
      "|          2|    5994.59|\n",
      "|         97|    5977.19|\n",
      "|         46|    5963.11|\n",
      "|         42|    5696.84|\n",
      "|         59|    5642.89|\n",
      "|         41|    5637.62|\n",
      "|          0|    5524.95|\n",
      "|          8|    5517.24|\n",
      "|         85|    5503.43|\n",
      "|         61|    5497.48|\n",
      "|         32|    5496.05|\n",
      "|         58|    5437.73|\n",
      "|         63|    5415.15|\n",
      "|         15|    5413.51|\n",
      "|          6|    5397.88|\n",
      "+-----------+-----------+\n",
      "only showing top 20 rows\n",
      "\n"
     ]
    }
   ],
   "source": [
    "data.groupBy(\"customer_id\").agg(func.round(func.sum(\"price\"),2).alias(\"total_price\")).sort(func.desc(\"total_price\")).show()"
   ]
  },
  {
   "cell_type": "code",
   "execution_count": 137,
   "metadata": {},
   "outputs": [],
   "source": [
    "spark.stop()"
   ]
  },
  {
   "cell_type": "code",
   "execution_count": null,
   "metadata": {},
   "outputs": [],
   "source": []
  }
 ],
 "metadata": {
  "kernelspec": {
   "display_name": "Python 3",
   "language": "python",
   "name": "python3"
  },
  "language_info": {
   "codemirror_mode": {
    "name": "ipython",
    "version": 3
   },
   "file_extension": ".py",
   "mimetype": "text/x-python",
   "name": "python",
   "nbconvert_exporter": "python",
   "pygments_lexer": "ipython3",
   "version": "3.8.5"
  }
 },
 "nbformat": 4,
 "nbformat_minor": 4
}
