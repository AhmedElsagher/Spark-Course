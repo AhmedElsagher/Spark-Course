{
 "cells": [
  {
   "cell_type": "markdown",
   "metadata": {},
   "source": [
    "## Example_1"
   ]
  },
  {
   "cell_type": "code",
   "execution_count": 2,
   "metadata": {},
   "outputs": [],
   "source": [
    "from pyspark.sql import SparkSession\n",
    "from pyspark.sql import functions as func\n",
    "from pyspark.sql.types import StructField, StructType,StringType,IntegerType,LongType"
   ]
  },
  {
   "cell_type": "code",
   "execution_count": 9,
   "metadata": {},
   "outputs": [],
   "source": [
    "spark = SparkSession.builder.appName(\"movieApp\").getOrCreate()\n",
    "schema = StructType([\n",
    "    StructField(\"user_id\",StringType(),True),\n",
    "    StructField(\"movie_id\",StringType(),True),\n",
    "    StructField(\"rating\",IntegerType(),True),\n",
    "    StructField(\"timestamp\",LongType(),True)\n",
    "])"
   ]
  },
  {
   "cell_type": "code",
   "execution_count": 10,
   "metadata": {},
   "outputs": [],
   "source": [
    "movie_df = spark.read.option(\"sep\",\"\\t\").schema(schema).csv(\"../DATA/ml-100k/u.data\")"
   ]
  },
  {
   "cell_type": "code",
   "execution_count": 14,
   "metadata": {},
   "outputs": [
    {
     "name": "stdout",
     "output_type": "stream",
     "text": [
      "+--------+-----+\n",
      "|movie_id|count|\n",
      "+--------+-----+\n",
      "|      50|  583|\n",
      "|     258|  509|\n",
      "|     100|  508|\n",
      "|     181|  507|\n",
      "|     294|  485|\n",
      "|     286|  481|\n",
      "|     288|  478|\n",
      "|       1|  452|\n",
      "|     300|  431|\n",
      "|     121|  429|\n",
      "|     174|  420|\n",
      "|     127|  413|\n",
      "|      56|  394|\n",
      "|       7|  392|\n",
      "|      98|  390|\n",
      "|     237|  384|\n",
      "|     117|  378|\n",
      "|     172|  367|\n",
      "|     222|  365|\n",
      "|     204|  350|\n",
      "+--------+-----+\n",
      "only showing top 20 rows\n",
      "\n"
     ]
    }
   ],
   "source": [
    "movie_df.groupBy(\"movie_id\").count().orderBy(func.desc(\"count\")).show()"
   ]
  },
  {
   "cell_type": "code",
   "execution_count": 15,
   "metadata": {},
   "outputs": [],
   "source": [
    "spark.stop()"
   ]
  },
  {
   "cell_type": "markdown",
   "metadata": {},
   "source": [
    "# Example2"
   ]
  },
  {
   "cell_type": "code",
   "execution_count": 17,
   "metadata": {},
   "outputs": [],
   "source": [
    "from pyspark.sql import SparkSession\n",
    "from pyspark.sql import functions as func\n",
    "from pyspark.sql.types import StructField, StructType,StringType,IntegerType,LongType\n",
    "\n",
    "spark = SparkSession.builder.appName(\"movieApp\").getOrCreate()\n",
    "\n",
    "schema = StructType([\n",
    "    StructField(\"user_id\",StringType(),True),\n",
    "    StructField(\"movie_id\",StringType(),True),\n",
    "    StructField(\"rating\",IntegerType(),True),\n",
    "    StructField(\"timestamp\",LongType(),True)\n",
    "])\n",
    "movie_df = spark.read.option(\"sep\",\"\\t\").schema(schema).csv(\"../DATA/ml-100k/u.data\")"
   ]
  },
  {
   "cell_type": "code",
   "execution_count": 26,
   "metadata": {},
   "outputs": [
    {
     "name": "stdout",
     "output_type": "stream",
     "text": [
      "0\n"
     ]
    }
   ],
   "source": [
    "# brodcast \n",
    "def loadMovieNames():\n",
    "    with open(\"../DATA/ml-100k/u.item\",\"r\",encoding=\"ISO-8859-1\",errors=\"ignore\") as file:\n",
    "        lines = file.read().split(\"\\n\")\n",
    "        dict_=dict()\n",
    "        for line in lines:\n",
    "#             print(line)\n",
    "            try:\n",
    "                fields = line.split(\"|\")\n",
    "                id = str(fields[0])            \n",
    "                name = str(fields[1])\n",
    "                dict_[id]=name\n",
    "            except:\n",
    "                print(len(line))\n",
    "    return dict_\n",
    "name_dict= spark.sparkContext.broadcast(loadMovieNames())\n",
    " "
   ]
  },
  {
   "cell_type": "code",
   "execution_count": 49,
   "metadata": {},
   "outputs": [],
   "source": [
    "movie_count_df = movie_df.groupBy(\"movie_id\").count()"
   ]
  },
  {
   "cell_type": "code",
   "execution_count": 34,
   "metadata": {},
   "outputs": [],
   "source": [
    "def lookup(movieID):\n",
    "    return name_dict.value[movieID]"
   ]
  },
  {
   "cell_type": "code",
   "execution_count": 35,
   "metadata": {},
   "outputs": [],
   "source": [
    "lookup_udf = func.udf(lookup)"
   ]
  },
  {
   "cell_type": "code",
   "execution_count": 50,
   "metadata": {},
   "outputs": [],
   "source": [
    "movie_count_df = movie_count_df.withColumn(\"name\",lookup_udf(func.col(\"movie_id\")))"
   ]
  },
  {
   "cell_type": "code",
   "execution_count": 51,
   "metadata": {},
   "outputs": [],
   "source": [
    "movie_count_df = movie_count_df.select(\"name\",\"count\").orderBy(func.desc(\"count\"))"
   ]
  },
  {
   "cell_type": "code",
   "execution_count": 53,
   "metadata": {},
   "outputs": [
    {
     "name": "stdout",
     "output_type": "stream",
     "text": [
      "+--------------------+-----+\n",
      "|                name|count|\n",
      "+--------------------+-----+\n",
      "|    Star Wars (1977)|  583|\n",
      "|      Contact (1997)|  509|\n",
      "|        Fargo (1996)|  508|\n",
      "|Return of the Jed...|  507|\n",
      "|    Liar Liar (1997)|  485|\n",
      "|English Patient, ...|  481|\n",
      "|       Scream (1996)|  478|\n",
      "|    Toy Story (1995)|  452|\n",
      "|Air Force One (1997)|  431|\n",
      "|Independence Day ...|  429|\n",
      "|Raiders of the Lo...|  420|\n",
      "|Godfather, The (1...|  413|\n",
      "| Pulp Fiction (1994)|  394|\n",
      "|Twelve Monkeys (1...|  392|\n",
      "|Silence of the La...|  390|\n",
      "|Jerry Maguire (1996)|  384|\n",
      "|    Rock, The (1996)|  378|\n",
      "|Empire Strikes Ba...|  367|\n",
      "|Star Trek: First ...|  365|\n",
      "|Back to the Futur...|  350|\n",
      "+--------------------+-----+\n",
      "only showing top 20 rows\n",
      "\n"
     ]
    }
   ],
   "source": [
    "movie_count_df.show()"
   ]
  },
  {
   "cell_type": "markdown",
   "metadata": {},
   "source": [
    "## example 3 populat superhero"
   ]
  },
  {
   "cell_type": "code",
   "execution_count": 25,
   "metadata": {},
   "outputs": [],
   "source": [
    "from pyspark.sql import SparkSession\n",
    "from pyspark.sql import functions as func\n",
    "from pyspark.sql.types import StructField, StructType,StringType,IntegerType,LongType\n",
    "\n",
    "spark = SparkSession.builder.appName(\"superhero\").getOrCreate()\n",
    "\n",
    "schema = StructType([\n",
    "    StructField(\"ID\",StringType(),True),\n",
    "    StructField(\"name\",StringType(),True)\n",
    "])\n",
    "names = spark.read.schema(schema).option(\"sep\",\" \").csv(\"/media/user/Files/sparkCourse/DATA/2015-10-01_13-52-12__Marvel-names.txt\")"
   ]
  },
  {
   "cell_type": "code",
   "execution_count": 26,
   "metadata": {},
   "outputs": [
    {
     "name": "stdout",
     "output_type": "stream",
     "text": [
      "+---+--------------------+\n",
      "| ID|                name|\n",
      "+---+--------------------+\n",
      "|  1|24-HOUR MAN/EMMANUEL|\n",
      "|  2|3-D MAN/CHARLES CHAN|\n",
      "|  3|    4-D MAN/MERCURIO|\n",
      "|  4|             8-BALL/|\n",
      "|  5|                   A|\n",
      "|  6|               A'YIN|\n",
      "|  7|        ABBOTT, JACK|\n",
      "|  8|             ABCISSA|\n",
      "|  9|                ABEL|\n",
      "| 10|ABOMINATION/EMIL BLO|\n",
      "| 11|ABOMINATION | MUTANT|\n",
      "| 12|         ABOMINATRIX|\n",
      "| 13|             ABRAXAS|\n",
      "| 14|          ADAM 3,031|\n",
      "| 15|             ABSALOM|\n",
      "| 16|ABSORBING MAN/CARL C|\n",
      "| 17|ABSORBING MAN | MUTA|\n",
      "| 18|                ACBA|\n",
      "| 19|ACHEBE, REVEREND DOC|\n",
      "| 20|            ACHILLES|\n",
      "+---+--------------------+\n",
      "only showing top 20 rows\n",
      "\n"
     ]
    }
   ],
   "source": [
    "names.show()"
   ]
  },
  {
   "cell_type": "code",
   "execution_count": 10,
   "metadata": {},
   "outputs": [],
   "source": [
    "ids = spark.read.text(\"/media/user/Files/sparkCourse/DATA/2015-10-01_13-52-05__Marvel-graph.txt\")"
   ]
  },
  {
   "cell_type": "code",
   "execution_count": 15,
   "metadata": {},
   "outputs": [],
   "source": [
    "ids = ids.withColumn(\"id\",func.split(func.col(\"value\"),\" \")[0])\\\n",
    "        .withColumn(\"connections\",func.size(func.split(func.col(\"value\"),\" \"))-1)"
   ]
  },
  {
   "cell_type": "code",
   "execution_count": 17,
   "metadata": {},
   "outputs": [],
   "source": [
    "ids =ids.groupby(\"id\").agg(func.sum(\"connections\").alias(\"connections\"))"
   ]
  },
  {
   "cell_type": "code",
   "execution_count": 20,
   "metadata": {},
   "outputs": [
    {
     "name": "stdout",
     "output_type": "stream",
     "text": [
      "+----+-----------+\n",
      "|  id|connections|\n",
      "+----+-----------+\n",
      "| 859|       1937|\n",
      "|5306|       1745|\n",
      "|2664|       1532|\n",
      "|5716|       1429|\n",
      "|6306|       1397|\n",
      "|3805|       1389|\n",
      "|2557|       1374|\n",
      "|4898|       1348|\n",
      "|5736|       1292|\n",
      "| 403|       1283|\n",
      "|6066|       1266|\n",
      "|2650|       1247|\n",
      "|2399|       1179|\n",
      "|1289|       1107|\n",
      "|5467|       1098|\n",
      "| 133|       1097|\n",
      "|6148|       1096|\n",
      "| 154|       1095|\n",
      "|5046|       1083|\n",
      "|1602|       1082|\n",
      "+----+-----------+\n",
      "only showing top 20 rows\n",
      "\n"
     ]
    }
   ],
   "source": [
    "ids = ids.sort(func.desc(\"connections\"))\n",
    "ids.show()"
   ]
  },
  {
   "cell_type": "code",
   "execution_count": 22,
   "metadata": {},
   "outputs": [
    {
     "data": {
      "text/plain": [
       "'859'"
      ]
     },
     "execution_count": 22,
     "metadata": {},
     "output_type": "execute_result"
    }
   ],
   "source": [
    "ids.first()[0]"
   ]
  },
  {
   "cell_type": "code",
   "execution_count": 28,
   "metadata": {},
   "outputs": [
    {
     "data": {
      "text/plain": [
       "Row(name='CAPTAIN AMERICA')"
      ]
     },
     "execution_count": 28,
     "metadata": {},
     "output_type": "execute_result"
    }
   ],
   "source": [
    "names.filter(func.col(\"ID\")==ids.first()[0]).select(\"name\").first()"
   ]
  },
  {
   "cell_type": "markdown",
   "metadata": {},
   "source": [
    "## Excerise 1"
   ]
  },
  {
   "cell_type": "code",
   "execution_count": 42,
   "metadata": {},
   "outputs": [],
   "source": [
    "from pyspark.sql import SparkSession\n",
    "from pyspark.sql import functions as func\n",
    "from pyspark.sql.types import StringType,StructField,StructType\n",
    "\n",
    "spark = SparkSession.builder.appName(\"ObsecureHeroes\").getOrCreate()\n",
    "\n",
    "schema = StructType([\n",
    "StructField(\"ID\",StringType(),True),\n",
    "StructField(\"name\",StringType(),True)]\n",
    "    \n",
    ")\n",
    "names = spark.read.option(\"sep\",\" \").schema(schema).csv(\"/media/user/Files/sparkCourse/DATA/2015-10-01_13-52-12__Marvel-names.txt\")"
   ]
  },
  {
   "cell_type": "code",
   "execution_count": 74,
   "metadata": {},
   "outputs": [],
   "source": [
    "ids = spark.read.text(\"/media/user/Files/sparkCourse/DATA/2015-10-01_13-52-05__Marvel-graph.txt\")\n",
    "\n",
    "\n",
    "ids = ids.withColumn(\"ID\",func.split(func.col(\"value\"),\" \")[0])\\\n",
    ".withColumn(\"connections\",func.size(func.split(func.col(\"value\"),\" \"))-1)\\\n",
    ".groupby(\"ID\").agg(func.sum(\"connections\").alias(\"connections\"))\\\n",
    ".sort(func.col(\"connections\"))"
   ]
  },
  {
   "cell_type": "code",
   "execution_count": 80,
   "metadata": {},
   "outputs": [],
   "source": [
    "df = ids.join(names,['ID'],how = \"right\")\\\n",
    "    .sort(func.col(\"connections\"))\\\n",
    "    .na.fill(value=0)\\\n",
    "    .filter(func.col(\"connections\")<=1)\n"
   ]
  },
  {
   "cell_type": "code",
   "execution_count": 81,
   "metadata": {},
   "outputs": [],
   "source": [
    "df =df.toPandas()"
   ]
  },
  {
   "cell_type": "code",
   "execution_count": 82,
   "metadata": {},
   "outputs": [
    {
     "data": {
      "text/html": [
       "<div>\n",
       "<style scoped>\n",
       "    .dataframe tbody tr th:only-of-type {\n",
       "        vertical-align: middle;\n",
       "    }\n",
       "\n",
       "    .dataframe tbody tr th {\n",
       "        vertical-align: top;\n",
       "    }\n",
       "\n",
       "    .dataframe thead th {\n",
       "        text-align: right;\n",
       "    }\n",
       "</style>\n",
       "<table border=\"1\" class=\"dataframe\">\n",
       "  <thead>\n",
       "    <tr style=\"text-align: right;\">\n",
       "      <th></th>\n",
       "      <th>ID</th>\n",
       "      <th>connections</th>\n",
       "      <th>name</th>\n",
       "    </tr>\n",
       "  </thead>\n",
       "  <tbody>\n",
       "    <tr>\n",
       "      <th>0</th>\n",
       "      <td>6487</td>\n",
       "      <td>0</td>\n",
       "      <td>AA2 35</td>\n",
       "    </tr>\n",
       "    <tr>\n",
       "      <th>1</th>\n",
       "      <td>6488</td>\n",
       "      <td>0</td>\n",
       "      <td>M/PRM 35</td>\n",
       "    </tr>\n",
       "    <tr>\n",
       "      <th>2</th>\n",
       "      <td>6489</td>\n",
       "      <td>0</td>\n",
       "      <td>M/PRM 36</td>\n",
       "    </tr>\n",
       "    <tr>\n",
       "      <th>3</th>\n",
       "      <td>6490</td>\n",
       "      <td>0</td>\n",
       "      <td>M/PRM 37</td>\n",
       "    </tr>\n",
       "    <tr>\n",
       "      <th>4</th>\n",
       "      <td>6491</td>\n",
       "      <td>0</td>\n",
       "      <td>WI? 9</td>\n",
       "    </tr>\n",
       "    <tr>\n",
       "      <th>...</th>\n",
       "      <td>...</td>\n",
       "      <td>...</td>\n",
       "      <td>...</td>\n",
       "    </tr>\n",
       "    <tr>\n",
       "      <th>12956</th>\n",
       "      <td>4602</td>\n",
       "      <td>1</td>\n",
       "      <td>RED WOLF II</td>\n",
       "    </tr>\n",
       "    <tr>\n",
       "      <th>12957</th>\n",
       "      <td>4784</td>\n",
       "      <td>1</td>\n",
       "      <td>RUNE</td>\n",
       "    </tr>\n",
       "    <tr>\n",
       "      <th>12958</th>\n",
       "      <td>4945</td>\n",
       "      <td>1</td>\n",
       "      <td>SEA LEOPARD</td>\n",
       "    </tr>\n",
       "    <tr>\n",
       "      <th>12959</th>\n",
       "      <td>5028</td>\n",
       "      <td>1</td>\n",
       "      <td>SHARKSKIN</td>\n",
       "    </tr>\n",
       "    <tr>\n",
       "      <th>12960</th>\n",
       "      <td>6411</td>\n",
       "      <td>1</td>\n",
       "      <td>ZANTOR</td>\n",
       "    </tr>\n",
       "  </tbody>\n",
       "</table>\n",
       "<p>12961 rows × 3 columns</p>\n",
       "</div>"
      ],
      "text/plain": [
       "         ID  connections         name\n",
       "0      6487            0       AA2 35\n",
       "1      6488            0     M/PRM 35\n",
       "2      6489            0     M/PRM 36\n",
       "3      6490            0     M/PRM 37\n",
       "4      6491            0        WI? 9\n",
       "...     ...          ...          ...\n",
       "12956  4602            1  RED WOLF II\n",
       "12957  4784            1         RUNE\n",
       "12958  4945            1  SEA LEOPARD\n",
       "12959  5028            1    SHARKSKIN\n",
       "12960  6411            1       ZANTOR\n",
       "\n",
       "[12961 rows x 3 columns]"
      ]
     },
     "execution_count": 82,
     "metadata": {},
     "output_type": "execute_result"
    }
   ],
   "source": [
    "df"
   ]
  },
  {
   "cell_type": "code",
   "execution_count": null,
   "metadata": {},
   "outputs": [],
   "source": []
  }
 ],
 "metadata": {
  "kernelspec": {
   "display_name": "Python 3",
   "language": "python",
   "name": "python3"
  },
  "language_info": {
   "codemirror_mode": {
    "name": "ipython",
    "version": 3
   },
   "file_extension": ".py",
   "mimetype": "text/x-python",
   "name": "python",
   "nbconvert_exporter": "python",
   "pygments_lexer": "ipython3",
   "version": "3.8.5"
  }
 },
 "nbformat": 4,
 "nbformat_minor": 4
}
