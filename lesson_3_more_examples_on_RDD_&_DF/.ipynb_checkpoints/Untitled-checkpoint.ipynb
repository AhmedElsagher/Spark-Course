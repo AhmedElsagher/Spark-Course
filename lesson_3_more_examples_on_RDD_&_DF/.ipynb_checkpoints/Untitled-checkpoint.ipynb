{
 "cells": [
  {
   "cell_type": "markdown",
   "metadata": {},
   "source": [
    "## Example_1"
   ]
  },
  {
   "cell_type": "code",
   "execution_count": 2,
   "metadata": {},
   "outputs": [],
   "source": [
    "from pyspark.sql import SparkSession\n",
    "from pyspark.sql import functions as func\n",
    "from pyspark.sql.types import StructField, StructType,StringType,IntegerType,LongType"
   ]
  },
  {
   "cell_type": "code",
   "execution_count": 9,
   "metadata": {},
   "outputs": [],
   "source": [
    "spark = SparkSession.builder.appName(\"movieApp\").getOrCreate()\n",
    "schema = StructType([\n",
    "    StructField(\"user_id\",StringType(),True),\n",
    "    StructField(\"movie_id\",StringType(),True),\n",
    "    StructField(\"rating\",IntegerType(),True),\n",
    "    StructField(\"timestamp\",LongType(),True)\n",
    "])"
   ]
  },
  {
   "cell_type": "code",
   "execution_count": 10,
   "metadata": {},
   "outputs": [],
   "source": [
    "movie_df = spark.read.option(\"sep\",\"\\t\").schema(schema).csv(\"../DATA/ml-100k/u.data\")"
   ]
  },
  {
   "cell_type": "code",
   "execution_count": 14,
   "metadata": {},
   "outputs": [
    {
     "name": "stdout",
     "output_type": "stream",
     "text": [
      "+--------+-----+\n",
      "|movie_id|count|\n",
      "+--------+-----+\n",
      "|      50|  583|\n",
      "|     258|  509|\n",
      "|     100|  508|\n",
      "|     181|  507|\n",
      "|     294|  485|\n",
      "|     286|  481|\n",
      "|     288|  478|\n",
      "|       1|  452|\n",
      "|     300|  431|\n",
      "|     121|  429|\n",
      "|     174|  420|\n",
      "|     127|  413|\n",
      "|      56|  394|\n",
      "|       7|  392|\n",
      "|      98|  390|\n",
      "|     237|  384|\n",
      "|     117|  378|\n",
      "|     172|  367|\n",
      "|     222|  365|\n",
      "|     204|  350|\n",
      "+--------+-----+\n",
      "only showing top 20 rows\n",
      "\n"
     ]
    }
   ],
   "source": [
    "movie_df.groupBy(\"movie_id\").count().orderBy(func.desc(\"count\")).show()"
   ]
  },
  {
   "cell_type": "code",
   "execution_count": 15,
   "metadata": {},
   "outputs": [],
   "source": [
    "spark.stop()"
   ]
  },
  {
   "cell_type": "markdown",
   "metadata": {},
   "source": [
    "# Example2"
   ]
  },
  {
   "cell_type": "code",
   "execution_count": 17,
   "metadata": {},
   "outputs": [],
   "source": [
    "from pyspark.sql import SparkSession\n",
    "from pyspark.sql import functions as func\n",
    "from pyspark.sql.types import StructField, StructType,StringType,IntegerType,LongType\n",
    "\n",
    "spark = SparkSession.builder.appName(\"movieApp\").getOrCreate()\n",
    "\n",
    "schema = StructType([\n",
    "    StructField(\"user_id\",StringType(),True),\n",
    "    StructField(\"movie_id\",StringType(),True),\n",
    "    StructField(\"rating\",IntegerType(),True),\n",
    "    StructField(\"timestamp\",LongType(),True)\n",
    "])\n",
    "movie_df = spark.read.option(\"sep\",\"\\t\").schema(schema).csv(\"../DATA/ml-100k/u.data\")"
   ]
  },
  {
   "cell_type": "code",
   "execution_count": 26,
   "metadata": {},
   "outputs": [
    {
     "name": "stdout",
     "output_type": "stream",
     "text": [
      "0\n"
     ]
    }
   ],
   "source": [
    "# brodcast \n",
    "def loadMovieNames():\n",
    "    with open(\"../DATA/ml-100k/u.item\",\"r\",encoding=\"ISO-8859-1\",errors=\"ignore\") as file:\n",
    "        lines = file.read().split(\"\\n\")\n",
    "        dict_=dict()\n",
    "        for line in lines:\n",
    "#             print(line)\n",
    "            try:\n",
    "                fields = line.split(\"|\")\n",
    "                id = str(fields[0])            \n",
    "                name = str(fields[1])\n",
    "                dict_[id]=name\n",
    "            except:\n",
    "                print(len(line))\n",
    "    return dict_\n",
    "name_dict= spark.sparkContext.broadcast(loadMovieNames())\n",
    " "
   ]
  },
  {
   "cell_type": "code",
   "execution_count": 49,
   "metadata": {},
   "outputs": [],
   "source": [
    "movie_count_df = movie_df.groupBy(\"movie_id\").count()"
   ]
  },
  {
   "cell_type": "code",
   "execution_count": 34,
   "metadata": {},
   "outputs": [],
   "source": [
    "def lookup(movieID):\n",
    "    return name_dict.value[movieID]"
   ]
  },
  {
   "cell_type": "code",
   "execution_count": 35,
   "metadata": {},
   "outputs": [],
   "source": [
    "lookup_udf = func.udf(lookup)"
   ]
  },
  {
   "cell_type": "code",
   "execution_count": 50,
   "metadata": {},
   "outputs": [],
   "source": [
    "movie_count_df = movie_count_df.withColumn(\"name\",lookup_udf(func.col(\"movie_id\")))"
   ]
  },
  {
   "cell_type": "code",
   "execution_count": 51,
   "metadata": {},
   "outputs": [],
   "source": [
    "movie_count_df = movie_count_df.select(\"name\",\"count\").orderBy(func.desc(\"count\"))"
   ]
  },
  {
   "cell_type": "code",
   "execution_count": 53,
   "metadata": {},
   "outputs": [
    {
     "name": "stdout",
     "output_type": "stream",
     "text": [
      "+--------------------+-----+\n",
      "|                name|count|\n",
      "+--------------------+-----+\n",
      "|    Star Wars (1977)|  583|\n",
      "|      Contact (1997)|  509|\n",
      "|        Fargo (1996)|  508|\n",
      "|Return of the Jed...|  507|\n",
      "|    Liar Liar (1997)|  485|\n",
      "|English Patient, ...|  481|\n",
      "|       Scream (1996)|  478|\n",
      "|    Toy Story (1995)|  452|\n",
      "|Air Force One (1997)|  431|\n",
      "|Independence Day ...|  429|\n",
      "|Raiders of the Lo...|  420|\n",
      "|Godfather, The (1...|  413|\n",
      "| Pulp Fiction (1994)|  394|\n",
      "|Twelve Monkeys (1...|  392|\n",
      "|Silence of the La...|  390|\n",
      "|Jerry Maguire (1996)|  384|\n",
      "|    Rock, The (1996)|  378|\n",
      "|Empire Strikes Ba...|  367|\n",
      "|Star Trek: First ...|  365|\n",
      "|Back to the Futur...|  350|\n",
      "+--------------------+-----+\n",
      "only showing top 20 rows\n",
      "\n"
     ]
    }
   ],
   "source": [
    "movie_count_df.show()"
   ]
  },
  {
   "cell_type": "markdown",
   "metadata": {},
   "source": [
    "## example 3 populat superhero"
   ]
  },
  {
   "cell_type": "code",
   "execution_count": null,
   "metadata": {},
   "outputs": [],
   "source": [
    "from pyspark.sql import SparkSession\n",
    "from pyspark.sql import functions as func\n",
    "from pyspark.sql.types import StructField, StructType,StringType,IntegerType,LongType\n",
    "\n",
    "spark = SparkSession.builder.appName(\"superhero\").getOrCreate()\n",
    "\n",
    "schema = StructType([\n",
    "    StructField(\"ID\",StringType(),True),\n",
    "    StructField(\"name\",StringType(),True)\n",
    "])\n",
    "superhero = spark.read.schema(schema).option(\"sep\",\" \").text(\"/media/user/Files/sparkCourse/DATA/2015-10-01_13-52-12__Marvel-names.txt\")"
   ]
  }
 ],
 "metadata": {
  "kernelspec": {
   "display_name": "Python 3",
   "language": "python",
   "name": "python3"
  },
  "language_info": {
   "codemirror_mode": {
    "name": "ipython",
    "version": 3
   },
   "file_extension": ".py",
   "mimetype": "text/x-python",
   "name": "python",
   "nbconvert_exporter": "python",
   "pygments_lexer": "ipython3",
   "version": "3.8.5"
  }
 },
 "nbformat": 4,
 "nbformat_minor": 4
}
